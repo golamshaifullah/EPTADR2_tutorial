{
 "cells": [
  {
   "cell_type": "markdown",
   "id": "c979f6a9-cb7b-4fc3-8e23-a4036ecb651c",
   "metadata": {},
   "source": [
    "<a href=\"https://colab.research.google.com/github/golamshaifullah/EPTADR2_tutorial/blob/main/tutorials/01_libstempo.ipynb\" target=\"_parent\"><img src=\"https://colab.research.google.com/assets/colab-badge.svg\" alt=\"Open In Colab\"/></a>"
   ]
  },
  {
   "cell_type": "code",
   "execution_count": null,
   "id": "0a0ae66a-6d16-48e3-be26-1801c9d6fd8d",
   "metadata": {},
   "outputs": [],
   "source": [
    "# This cell will reset the kernel.\n",
    "# Run this cell, wait until it's done, then run the next.\n",
    "!pip install -q condacolab\n",
    "import condacolab\n",
    "condacolab.install_mambaforge()"
   ]
  },
  {
   "cell_type": "code",
   "execution_count": null,
   "id": "97948543-e1da-4ad2-9a5e-03c90d3b68a4",
   "metadata": {},
   "outputs": [],
   "source": [
    "%%capture\n",
    "!mamba install -y -c conda-forge enterprise_extensions la_forge corner \"scipy<1.13\"\n",
    "!git clone https://github.com/golamshaifullah/EPTADR2_tutorial"
   ]
  },
  {
   "cell_type": "code",
   "execution_count": null,
   "id": "4c1555b3-355e-4330-8b0d-9fd1bcb1f858",
   "metadata": {},
   "outputs": [],
   "source": [
    "import sys\n",
    "IN_COLAB = 'google.colab' in sys.modules\n",
    "\n",
    "if IN_COLAB:\n",
    "    homedir = '/content/EPTADR2_tutorial'\n",
    "else:\n",
    "    homedir = '../'"
   ]
  },
  {
   "cell_type": "markdown",
   "id": "48e9772c-28fe-426b-83dd-3786c7630b27",
   "metadata": {
    "tags": []
   },
   "source": [
    "# Adapted from notebooks by Aurelien Chalumeau and Irene Ferranti (UniMiB)"
   ]
  },
  {
   "cell_type": "code",
   "execution_count": null,
   "id": "79bcf43f",
   "metadata": {},
   "outputs": [],
   "source": [
    "from IPython.core.display import display, HTML\n",
    "display(HTML(\"<style>.container { width:90% !important; }</style>\"))"
   ]
  },
  {
   "cell_type": "markdown",
   "id": "45f78554",
   "metadata": {},
   "source": [
    "# Play with libstempo: https://github.com/vallis/libstempo"
   ]
  },
  {
   "cell_type": "code",
   "execution_count": null,
   "id": "be083eb7",
   "metadata": {},
   "outputs": [],
   "source": [
    "import os\n",
    "import numpy as np\n",
    "import matplotlib.pyplot as plt\n",
    "import libstempo as LT"
   ]
  },
  {
   "cell_type": "markdown",
   "id": "4d201ca5",
   "metadata": {},
   "source": [
    "# 1. Pulsar timing data -> ToAs and timing model"
   ]
  },
  {
   "cell_type": "markdown",
   "id": "3cc50a0f",
   "metadata": {},
   "source": [
    "## PTA data ?"
   ]
  },
  {
   "cell_type": "code",
   "execution_count": null,
   "id": "3a0b9107",
   "metadata": {},
   "outputs": [],
   "source": [
    "psrname = \"J1909-3744\""
   ]
  },
  {
   "cell_type": "code",
   "execution_count": null,
   "id": "7a4c07ee",
   "metadata": {},
   "outputs": [],
   "source": [
    "! ls ../data/EPTA_DR2/J1909-3744"
   ]
  },
  {
   "cell_type": "markdown",
   "id": "f8481090",
   "metadata": {},
   "source": [
    "## Timfile(s) -> Pulsar timing measurements\n",
    "\n",
    "### Observation name, radio frequency, ToA, ToA uncertainty, telescope name, additionnal informations"
   ]
  },
  {
   "cell_type": "code",
   "execution_count": null,
   "id": "4d373ab5",
   "metadata": {},
   "outputs": [],
   "source": [
    "timfile = \"../data/EPTA_DR2/DR2new/%s/%s_all.tim\"%(psrname, psrname)\n",
    "with open(timfile) as f:\n",
    "    l = f.readlines()\n",
    "print(\"\".join(l))"
   ]
  },
  {
   "cell_type": "code",
   "execution_count": null,
   "id": "efccc6f9",
   "metadata": {},
   "outputs": [],
   "source": [
    "timfile_1 = os.path.dirname(timfile)+\"/tims/NRT.BON.1400.tim\"\n",
    "with open(timfile_1) as f:\n",
    "    l = f.readlines()\n",
    "print(\"\".join(l))"
   ]
  },
  {
   "cell_type": "markdown",
   "id": "ca190ffe",
   "metadata": {},
   "source": [
    "## Parfile -> Timing model settings"
   ]
  },
  {
   "cell_type": "code",
   "execution_count": null,
   "id": "12bbd9ec",
   "metadata": {},
   "outputs": [],
   "source": [
    "parfile = \"../data/EPTA_DR2/DR2new/%s/%s.par\"%(psrname, psrname)\n",
    "with open(parfile) as f:\n",
    "    l = f.readlines()\n",
    "print(\"\".join(l))"
   ]
  },
  {
   "cell_type": "markdown",
   "id": "b935a908",
   "metadata": {},
   "source": [
    "# 2. Read data with libstempo -> Create LT.tempopulsar python object "
   ]
  },
  {
   "cell_type": "code",
   "execution_count": null,
   "id": "d87a5af9",
   "metadata": {},
   "outputs": [],
   "source": [
    "# Modified Julian Date to Gregorian Date\n",
    "def mjd2gd(mjd):\n",
    "    return 2000 + (mjd - 51544.5) / 365.25"
   ]
  },
  {
   "cell_type": "code",
   "execution_count": null,
   "id": "d3df7378",
   "metadata": {
    "scrolled": true
   },
   "outputs": [],
   "source": [
    "psrname = \"J1909-3744\"\n",
    "parfile = \"../data/EPTA_DR2/DR2new/%s/%s.par\"%(psrname, psrname)\n",
    "timfile = \"../data/EPTA_DR2/DR2new/%s/%s_all.tim\"%(psrname, psrname)\n",
    "ltpsr = LT.tempopulsar(parfile, timfile)"
   ]
  },
  {
   "cell_type": "markdown",
   "id": "d233ae81",
   "metadata": {},
   "source": [
    "# 3. Plot data"
   ]
  },
  {
   "cell_type": "markdown",
   "id": "f18d501d",
   "metadata": {},
   "source": [
    "# Time vs. Timing residuals"
   ]
  },
  {
   "cell_type": "code",
   "execution_count": null,
   "id": "98ba3b3a",
   "metadata": {},
   "outputs": [],
   "source": [
    "tgd = mjd2gd(ltpsr.toas())\n",
    "\n",
    "plt.figure(figsize=(12, 7))\n",
    "\n",
    "plt.title(\"%s, Weighted RMS: %2.f ns\"%(psrname, 1e9*ltpsr.rms()))\n",
    "\n",
    "# plt.errorbar(ltpsr.toas(), ltpsr.residuals(), yerr=ltpsr.toaerrs*1e-6, fmt='.')\n",
    "plt.errorbar(tgd, ltpsr.residuals(), yerr=ltpsr.toaerrs*1e-6, \n",
    "             fmt='o', mec='k', mfc='white', ms=4, elinewidth=2, ecolor='g', capsize=3)\n",
    "\n",
    "plt.axhline(0, ls=':', zorder=0, c='k')\n",
    "plt.xlabel(r\"Epochs [MJD]\", fontsize=16)\n",
    "plt.ylabel(r\"$\\delta t$ [s]\", fontsize=16)\n",
    "plt.xticks(fontsize=14)\n",
    "plt.yticks(fontsize=14)\n",
    "\n",
    "plt.grid(alpha=.3)\n",
    "plt.show()"
   ]
  },
  {
   "cell_type": "markdown",
   "id": "acbeef71",
   "metadata": {},
   "source": [
    "# Time vs. Radio frequency"
   ]
  },
  {
   "cell_type": "code",
   "execution_count": null,
   "id": "60310f42",
   "metadata": {},
   "outputs": [],
   "source": [
    "tgd = mjd2gd(ltpsr.toas())\n",
    "\n",
    "plt.figure(figsize=(12, 7))\n",
    "\n",
    "plt.title(\"%s\"%psrname)\n",
    "\n",
    "plt.plot(tgd, ltpsr.freqs, '.', ms=8)\n",
    "\n",
    "plt.xlabel(r\"Epochs [MJD]\", fontsize=16)\n",
    "plt.ylabel(r\"Observed radio frequency [MHz]\", fontsize=16)\n",
    "plt.xticks(fontsize=14)\n",
    "plt.yticks(fontsize=14)\n",
    "\n",
    "plt.grid(alpha=.3)\n",
    "plt.show()"
   ]
  },
  {
   "cell_type": "markdown",
   "id": "b10e70d6",
   "metadata": {},
   "source": [
    "# 4. Timing model parameters"
   ]
  },
  {
   "cell_type": "code",
   "execution_count": null,
   "id": "8ac8ebc1",
   "metadata": {},
   "outputs": [],
   "source": [
    "vals_i = np.copy(ltpsr.vals())\n",
    "\n",
    "for i in range(len(ltpsr.pars())):\n",
    "    #print(psr.pars()[i]+' : '+str(psr.vals()[i])+\" +/- \"+str(psr.errs()[i]))\n",
    "    print(\"%10s: %17.5g +/- %5.2e\"%(ltpsr.pars()[i], ltpsr.vals()[i], ltpsr.errs()[i]))"
   ]
  },
  {
   "cell_type": "code",
   "execution_count": null,
   "id": "750963f5",
   "metadata": {},
   "outputs": [],
   "source": [
    "for i in range(5):\n",
    "    ltpsr.fit()"
   ]
  },
  {
   "cell_type": "code",
   "execution_count": null,
   "id": "cbe1cab1",
   "metadata": {},
   "outputs": [],
   "source": [
    "for i in range(len(ltpsr.pars())):\n",
    "    #print(psr.pars()[i]+' : '+str(psr.vals()[i])+\" +/- \"+str(psr.errs()[i]))\n",
    "    print(\"%10s: %17.5g +/- %5.2e \\t\\t diff: %5.2f sigmas\"%(\\\n",
    "                                        ltpsr.pars()[i], \n",
    "                                        ltpsr.vals()[i], \n",
    "                                        ltpsr.errs()[i],\n",
    "                                        np.abs(ltpsr.vals()[i] - vals_i[i]) / ltpsr.errs()[i]\n",
    "                                        ))"
   ]
  },
  {
   "cell_type": "code",
   "execution_count": null,
   "id": "b34b6b1b",
   "metadata": {},
   "outputs": [],
   "source": [
    "tgd = mjd2gd(ltpsr.toas())\n",
    "\n",
    "plt.figure(figsize=(12, 7))\n",
    "\n",
    "plt.title(\"%s, Weighted RMS: %2.f ns\"%(psrname, 1e9*ltpsr.rms()))\n",
    "\n",
    "# plt.errorbar(ltpsr.toas(), ltpsr.residuals(), yerr=ltpsr.toaerrs*1e-6, fmt='.')\n",
    "plt.errorbar(tgd, ltpsr.residuals(), yerr=ltpsr.toaerrs*1e-6, \n",
    "             fmt='o', mec='k', mfc='white', ms=4, elinewidth=2, ecolor='g', capsize=3)\n",
    "\n",
    "plt.axhline(0, ls=':', zorder=0, c='k')\n",
    "plt.xlabel(r\"Epochs [MJD]\", fontsize=16)\n",
    "plt.ylabel(r\"$\\delta t$ [s]\", fontsize=16)\n",
    "plt.xticks(fontsize=14)\n",
    "plt.yticks(fontsize=14)\n",
    "\n",
    "plt.grid(alpha=.3)\n",
    "plt.show()"
   ]
  },
  {
   "cell_type": "markdown",
   "id": "ec16d6e1",
   "metadata": {},
   "source": [
    "### 4.1 Check residuals after modifying TM params"
   ]
  },
  {
   "cell_type": "code",
   "execution_count": null,
   "id": "9bdeba7a",
   "metadata": {},
   "outputs": [],
   "source": [
    "dev_pars = [\n",
    "#             \"RAJ: \",\n",
    "#             \"DECJ\",\n",
    "#             \"F0\",\n",
    "#             \"F1\",\n",
    "#             \"DM\",\n",
    "#             \"DM1\",\n",
    "#             \"DM2\",\n",
    "#             \"PMRA\",\n",
    "#             \"PMDEC\",\n",
    "#            \"PX\",\n",
    "#             \"SINI\",\n",
    "#             \"PB\",\n",
    "             \"A1\",\n",
    "#             \"PBDOT\",\n",
    "#             \"XDOT\",\n",
    "#             \"TASC\",\n",
    "#             \"EPS1\",\n",
    "#             \"EPS2\",\n",
    "#             \"M2\",\n",
    "#             \"JUMP1\",\n",
    "#             \"JUMP2\"\n",
    "    ]\n",
    "\n",
    "vals_i = np.copy(ltpsr.vals())\n",
    "\n",
    "vals = ltpsr.vals()\n",
    "for dev_par in dev_pars:\n",
    "    if dev_par in ltpsr.pars():\n",
    "        ipar = ltpsr.pars().index(dev_par)\n",
    "        vals[ipar] += 1000 * ltpsr.errs()[ipar]\n",
    "\n",
    "ltpsr.vals(vals)\n",
    "res = np.copy(ltpsr.residuals())\n",
    "ltpsr.vals(vals_i)"
   ]
  },
  {
   "cell_type": "code",
   "execution_count": null,
   "id": "09dba790",
   "metadata": {},
   "outputs": [],
   "source": [
    "tgd = mjd2gd(ltpsr.toas())\n",
    "\n",
    "plt.figure(figsize=(12, 7))\n",
    "\n",
    "plt.title(\"%s, Weighted RMS: %2.f ns\"%(psrname, 1e9*ltpsr.rms()))\n",
    "\n",
    "plt.errorbar(tgd, res, yerr=ltpsr.toaerrs*1e-6, \n",
    "             fmt='o', mec='k', mfc='white', ms=4, elinewidth=2, ecolor='g', capsize=3)\n",
    "\n",
    "plt.axhline(0, ls=':', zorder=0, c='k')\n",
    "plt.xlabel(r\"Epochs [MJD]\", fontsize=16)\n",
    "plt.ylabel(r\"$\\delta t$ [s]\", fontsize=16)\n",
    "plt.xticks(fontsize=14)\n",
    "plt.yticks(fontsize=14)\n",
    "\n",
    "plt.grid(alpha=.3)\n",
    "plt.show()"
   ]
  },
  {
   "cell_type": "markdown",
   "id": "4ebc10f4",
   "metadata": {},
   "source": [
    "### 4.2 Idem but with orbital phase"
   ]
  },
  {
   "cell_type": "code",
   "execution_count": null,
   "id": "3686c254",
   "metadata": {},
   "outputs": [],
   "source": [
    "iPB = ltpsr.pars().index(\"PB\")\n",
    "phases = ltpsr.toas() % ltpsr.vals()[iPB]"
   ]
  },
  {
   "cell_type": "code",
   "execution_count": null,
   "id": "513071d2",
   "metadata": {},
   "outputs": [],
   "source": [
    "dev_pars = [\n",
    "#             \"RAJ: \",\n",
    "#             \"DECJ\",\n",
    "#             \"F0\",\n",
    "#             \"F1\",\n",
    "#             \"DM\",\n",
    "#             \"DM1\",\n",
    "#             \"DM2\",\n",
    "#             \"PMRA\",\n",
    "#             \"PMDEC\",\n",
    "#             \"PX\",\n",
    "#             \"SINI\",\n",
    "             \"PB\",\n",
    "#            \"A1\",\n",
    "#             \"PBDOT\",\n",
    "#             \"XDOT\",\n",
    "#             \"TASC\",\n",
    "#             \"EPS1\",\n",
    "#             \"EPS2\",\n",
    "#             \"M2\",\n",
    "#             \"JUMP1\",\n",
    "#             \"JUMP2\"\n",
    "    ]\n",
    "\n",
    "vals_i = np.copy(ltpsr.vals())\n",
    "\n",
    "vals = ltpsr.vals()\n",
    "for dev_par in dev_pars:\n",
    "    if dev_par in ltpsr.pars():\n",
    "        ipar = ltpsr.pars().index(dev_par)\n",
    "        vals[ipar] += 100 * ltpsr.errs()[ipar]\n",
    "\n",
    "ltpsr.vals(vals)\n",
    "res = np.copy(ltpsr.residuals())\n",
    "ltpsr.vals(vals_i)"
   ]
  },
  {
   "cell_type": "code",
   "execution_count": null,
   "id": "c715ab38",
   "metadata": {
    "tags": []
   },
   "outputs": [],
   "source": [
    "tgd = mjd2gd(ltpsr.toas())\n",
    "\n",
    "plt.figure(figsize=(12, 7))\n",
    "\n",
    "plt.title(\"%s, Weighted RMS: %2.f ns\"%(psrname, 1e9*ltpsr.rms()))\n",
    "\n",
    "\n",
    "plt.errorbar(phases, res, yerr=ltpsr.toaerrs*1e-6, \n",
    "             fmt='o', mec='k', mfc='white', ms=4, elinewidth=2, ecolor='g', capsize=3)\n",
    "\n",
    "plt.axhline(0, ls=':', zorder=0, c='k')\n",
    "plt.xlabel(r\"Orbital phase [MJD]\", fontsize=16)\n",
    "plt.ylabel(r\"$\\delta t$ [s]\", fontsize=16)\n",
    "plt.xticks(fontsize=14)\n",
    "plt.yticks(fontsize=14)\n",
    "\n",
    "plt.grid(alpha=.3)\n",
    "plt.show()"
   ]
  }
 ],
 "metadata": {
  "kernelspec": {
   "display_name": "Python 3 (ipykernel)",
   "language": "python",
   "name": "python3"
  },
  "language_info": {
   "codemirror_mode": {
    "name": "ipython",
    "version": 3
   },
   "file_extension": ".py",
   "mimetype": "text/x-python",
   "name": "python",
   "nbconvert_exporter": "python",
   "pygments_lexer": "ipython3",
   "version": "3.9.16"
  }
 },
 "nbformat": 4,
 "nbformat_minor": 5
}
