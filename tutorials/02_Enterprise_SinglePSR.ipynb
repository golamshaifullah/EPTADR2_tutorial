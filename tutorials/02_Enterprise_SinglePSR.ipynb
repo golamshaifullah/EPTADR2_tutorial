{
 "cells": [
  {
   "cell_type": "markdown",
   "id": "cab7d010-711e-4a40-ba81-8d55508af653",
   "metadata": {},
   "source": [
    "<a href=\"https://colab.research.google.com/github/golamshaifullah/EPTADR2_tutorial/blob/main/tutorials/02_Enterprise_SinglePSR.ipynb\" target=\"_parent\"><img src=\"https://colab.research.google.com/assets/colab-badge.svg\" alt=\"Open In Colab\"/></a>"
   ]
  },
  {
   "cell_type": "markdown",
   "id": "f0e57896-b6a2-4bfb-83be-9431bae3154c",
   "metadata": {},
   "source": [
    "# Pulsar noise modelling tutorial - adapted from notebooks by Aurelien Chalumeau and Irene Ferranti (UniMiB)"
   ]
  },
  {
   "cell_type": "markdown",
   "id": "01e41a6d-b4b6-484c-8f51-9b7032b0ee97",
   "metadata": {
    "tags": []
   },
   "source": [
    "### Run the following two cells only when using colab! "
   ]
  },
  {
   "cell_type": "code",
   "execution_count": null,
   "id": "58df2cd2-aba6-48ea-9fc5-90c01a57c4be",
   "metadata": {},
   "outputs": [],
   "source": [
    "# This cell will reset the kernel.\n",
    "# Run this cell, wait until it's done, then run the next.\n",
    "!pip install -q condacolab\n",
    "import condacolab\n",
    "condacolab.install_mambaforge()"
   ]
  },
  {
   "cell_type": "code",
   "execution_count": null,
   "id": "3fb10003-76c6-4718-b67a-eecfcefec6c2",
   "metadata": {},
   "outputs": [],
   "source": [
    "%%capture\n",
    "!mamba install -y -c conda-forge enterprise_extensions la_forge corner \"scipy<1.13\"\n",
    "!git clone https://github.com/golamshaifullah/EPTADR2_tutorial"
   ]
  },
  {
   "cell_type": "markdown",
   "id": "e81badd8-ec55-4166-b206-7e46d497bcc8",
   "metadata": {},
   "source": [
    "### The actual notebook starts from here:"
   ]
  },
  {
   "cell_type": "code",
   "execution_count": null,
   "id": "3bdf2a2a-e1aa-439d-bcbd-808877c49d2c",
   "metadata": {},
   "outputs": [],
   "source": [
    "import sys\n",
    "IN_COLAB = 'google.colab' in sys.modules\n",
    "\n",
    "if IN_COLAB:\n",
    "    homedir = '/content/EPTADR2_tutorial'\n",
    "else:\n",
    "    homedir = '../'"
   ]
  },
  {
   "cell_type": "markdown",
   "id": "0164df23-33be-4150-acec-5e20f2abf654",
   "metadata": {},
   "source": [
    "### GitHub Repositories:\n",
    "- **libstempo**: [https://github.com/vallis/libstempo](https://github.com/vallis/libstempo)\n",
    "- **enterprise**: [https://github.com/nanograv/enterprise](https://github.com/nanograv/enterprise)\n",
    "- **enterprise_extensions**: [https://github.com/nanograv/enterprise_extensions](https://github.com/nanograv/enterprise_extensions)\n",
    "- **PTMCMCSampler**: [https://github.com/jellis18/PTMCMCSampler](https://github.com/jellis18/PTMCMCSampler)\n",
    "- **matplotlib**: [https://github.com/matplotlib/matplotlib](https://github.com/matplotlib/matplotlib)\n",
    "- **corner**: [https://github.com/dfm/corner.py](https://github.com/dfm/corner.py)"
   ]
  },
  {
   "cell_type": "code",
   "execution_count": null,
   "id": "802b222c",
   "metadata": {
    "tags": []
   },
   "outputs": [],
   "source": [
    "from IPython.display import display, HTML\n",
    "\n",
    "# This will adjust the output cell width in Google Colab\n",
    "display(HTML(\"<style>.output-cell { max-width: 90% !important; }</style>\"))"
   ]
  },
  {
   "cell_type": "code",
   "execution_count": null,
   "id": "4096f8e8",
   "metadata": {
    "tags": []
   },
   "outputs": [],
   "source": [
    "# Standard library\n",
    "import os\n",
    "\n",
    "# Scientific computing and linear algebra\n",
    "import numpy as np\n",
    "import scipy.linalg as sl\n",
    "\n",
    "# libstempo library\n",
    "import libstempo as LT\n",
    "import libstempo.toasim as LTsim\n",
    "from libstempo.toasim import (\n",
    "    add_efac, \n",
    "    add_equad, \n",
    "    add_gwb, \n",
    "    add_cgw\n",
    ")\n",
    "\n",
    "# enterprise and extensions\n",
    "from enterprise.pulsar import Pulsar\n",
    "from enterprise.signals.utils import powerlaw, createfourierdesignmatrix_dm\n",
    "from enterprise.signals import white_signals, gp_signals, parameter\n",
    "from enterprise.signals.signal_base import PTA\n",
    "from enterprise_extensions.sampler import JumpProposal\n",
    "\n",
    "# PTMCMCSampler\n",
    "from PTMCMCSampler.PTMCMCSampler import PTSampler as ptmcmc\n",
    "\n",
    "# Plotting libraries\n",
    "import matplotlib.pyplot as plt\n",
    "import corner\n",
    "\n",
    "# Import pickle\n",
    "import pickle"
   ]
  },
  {
   "cell_type": "code",
   "execution_count": null,
   "id": "51f644dd",
   "metadata": {
    "tags": []
   },
   "outputs": [],
   "source": [
    "# Constants\n",
    "DAY = 24 * 3600\n",
    "YEAR = 365.25 * DAY\n",
    "\n",
    "def add_efac(psr, efac=1.0, flagid=None, flags=None, seed=None):\n",
    "    \"\"\"\n",
    "    Adapted from libstempo.\n",
    "    Add nominal TOA errors, multiplied by the `efac` factor.\n",
    "    Optionally, use a pseudorandom-number-generator seed.\n",
    "    \"\"\"\n",
    "    if seed is not None:\n",
    "        np.random.seed(seed)\n",
    "\n",
    "    # Default efacvec\n",
    "    efacvec = np.ones(psr.nobs)\n",
    "\n",
    "    if flags is None:\n",
    "        if not np.isscalar(efac):\n",
    "            raise ValueError(\"If flags is None, efac must be a scalar.\")\n",
    "        efacvec = np.full(psr.nobs, efac)\n",
    "    elif flagid is not None and not np.isscalar(efac):\n",
    "        if len(efac) == len(flags):\n",
    "            flagvals = np.array(psr.flagvals(flagid))\n",
    "            for ct, flag in enumerate(flags):\n",
    "                efacvec[flagvals == flag] = efac[ct]\n",
    "\n",
    "    # Add TOA errors with random noise\n",
    "    psr.stoas[:] += efacvec * psr.toaerrs * (1e-6 / DAY) * np.random.randn(psr.nobs)\n",
    "\n",
    "def add_time_corr_signal(psr, A, gamma, components=10, tspan=None, seed=None, idx=0, factor=1.0):\n",
    "    \"\"\"\n",
    "    Taken from libstempo.\n",
    "    Add DM variations with P(f) = A^2 / (12 pi^2) (f year)^-gamma using Fourier bases.\n",
    "    Optionally use a pseudorandom-number-generator seed.\n",
    "    \"\"\"\n",
    "    if seed is not None:\n",
    "        np.random.seed(seed)\n",
    "\n",
    "    t = psr.toas()\n",
    "    fref = 1400\n",
    "    v = (fref / psr.freqs) ** idx\n",
    "\n",
    "    minx, maxx = np.min(t), np.max(t)\n",
    "    if tspan is None:\n",
    "        x = (t - minx) / (maxx - minx)\n",
    "        T = (DAY / YEAR) * (maxx - minx)\n",
    "    else:\n",
    "        x = (t - minx) / tspan\n",
    "        T = (DAY / YEAR) * tspan\n",
    "\n",
    "    size = 2 * components\n",
    "    F = np.zeros((psr.nobs, size))\n",
    "    f = np.zeros(size)\n",
    "\n",
    "    # Vectorized computation of Fourier components\n",
    "    i_vals = np.arange(1, components + 1)\n",
    "    i_vals = i_vals[:, np.newaxis]  # Shape (30, 1)\n",
    "    x = np.asarray(x)  # Ensure x is a 1D array\n",
    "    F[:, ::2] = np.cos(2 * np.pi * i_vals * x).T  # Cosine terms\n",
    "    F[:, 1::2] = np.sin(2 * np.pi * i_vals * x).T  # Sine terms\n",
    "\n",
    "    f[::2] = f[1::2] = np.squeeze(i_vals / T)\n",
    "\n",
    "    norm = A**2 * YEAR**2 / (12 * np.pi**2 * T)\n",
    "    prior = norm * f ** (-gamma)\n",
    "\n",
    "    y = np.sqrt(prior) * np.random.randn(size)\n",
    "    psr.stoas[:] += (1.0 / DAY) * np.dot(F, y) * v * factor\n"
   ]
  },
  {
   "cell_type": "markdown",
   "id": "47bbc2a3-ba43-4148-b4ce-e0cb41415065",
   "metadata": {
    "tags": []
   },
   "source": [
    "### Explanation\n",
    "\n",
    "This code defines two functions, `add_efac` and `add_time_corr_signal`, to add errors and signals to the Times of Arrival (TOA) of pulsar observations. \n",
    "\n",
    "### Constants\n",
    "\n",
    "The constants are defined for time conversions:\n",
    "\\[\n",
    "\\text{DAY} = 24 \\times 3600 = 86400 \\, \\text{seconds}\n",
    "\\]\n",
    "\\[\n",
    "\\text{YEAR} = 365.25 \\times \\text{DAY} = 31,557,600 \\, \\text{seconds}\n",
    "\\]\n",
    "\n",
    "### `add_efac` Function\n",
    "\n",
    "The `add_efac` function is designed to add errors to the TOA measurements of a pulsar. Here's a breakdown of its components:\n",
    "\n",
    "#### Parameters:\n",
    "- **psr**: A pulsar object that contains observations and related properties.\n",
    "- **efac**: A scalar (or vector if using flags) that multiplies the nominal TOA errors.\n",
    "- **flagid** and **flags**: These parameters allow customization of the error factor (efac) for different subsets of data based on flags.\n",
    "- **seed**: A random seed to ensure reproducibility of the random errors.\n",
    "\n",
    "#### Steps:\n",
    "1. **Random Seed**: If a `seed` is provided, the random number generator is initialized with it.\n",
    "2. **Error Factor Vector (`efacvec`)**: \n",
    "   - If no flags are provided, `efac` must be a scalar. The function creates an array `efacvec` of size equal to the number of observations (`psr.nobs`) and fills it with the scalar value of `efac`.\n",
    "   - If flags are provided, the `efacvec` array is adjusted based on which observations match the provided flags.\n",
    "3. **Add TOA Errors**:\n",
    "   - Random noise is generated using a normal distribution with mean 0 and standard deviation 1, scaled by `psr.toaerrs`, `efacvec`, and a constant \\(\\frac{1}{\\text{DAY}} \\times 10^{-6}\\):\n",
    "     \\[\n",
    "     \\text{psr.stoas} += \\text{efacvec} \\times \\text{psr.toaerrs} \\times \\left( \\frac{10^{-6}}{\\text{DAY}} \\right) \\times \\text{np.random.randn(psr.nobs)}\n",
    "     \\]\n",
    "   - This effectively adds Gaussian noise to the TOA values.\n",
    "\n",
    "### `add_time_corr_signal` Function\n",
    "\n",
    "This function adds a time-correlated signal to the pulsar's TOA data based on a Fourier representation of the signal. The function models variations in the dispersion measure (DM) using a power-law spectrum.\n",
    "\n",
    "#### Parameters:\n",
    "- **psr**: The pulsar object.\n",
    "- **A**: Amplitude of the signal.\n",
    "- **gamma**: Spectral index of the power-law.\n",
    "- **components**: Number of Fourier components used to approximate the signal.\n",
    "- **tspan**: Time span for the signal; if `None`, it's calculated from the data.\n",
    "- **seed**: Random seed for reproducibility.\n",
    "- **idx**: A scaling factor based on the observing frequency.\n",
    "- **factor**: A general scaling factor for the added signal.\n",
    "\n",
    "#### Steps:\n",
    "1. **Random Seed**: If a seed is provided, the random number generator is initialized.\n",
    "2. **Observation Times**: The TOA data (`psr.toas()`) is stored in `t`. Frequencies (`psr.freqs`) are scaled with a reference frequency, \\(f_{\\text{ref}} = 1400\\) MHz, to obtain a scaling factor `v`:\n",
    "   \\[\n",
    "   v = \\left( \\frac{f_{\\text{ref}}}{\\text{psr.freqs}} \\right)^{\\text{idx}}\n",
    "   \\]\n",
    "3. **Normalized Time**: \n",
    "   - The observation times are normalized over the time span. If `tspan` is not provided, it is calculated as \\( T = \\frac{\\text{DAY}}{\\text{YEAR}} \\times (\\max(t) - \\min(t)) \\), where \\( t \\) is the TOA array. Otherwise, `tspan` is used to compute \\( T \\).\n",
    "4. **Fourier Components**:\n",
    "   - The Fourier design matrix `F` is constructed using cosine and sine terms for the first `components` Fourier modes:\n",
    "     \\[\n",
    "     F[:, 2i] = \\cos(2 \\pi (i+1) x)\n",
    "     \\]\n",
    "     \\[\n",
    "     F[:, 2i+1] = \\sin(2 \\pi (i+1) x)\n",
    "     \\]\n",
    "   - The corresponding frequencies are stored in the array `f`, with the same frequency for both sine and cosine terms:\n",
    "     \\[\n",
    "     f[2i] = f[2i+1] = \\frac{i+1}{T}\n",
    "     \\]\n",
    "5. **Power-Law Prior**:\n",
    "   - The power-law prior is calculated based on the amplitude \\(A\\) and spectral index \\(\\gamma\\):\n",
    "     \\[\n",
    "     P(f) = \\frac{A^2 \\times \\text{YEAR}^2}{12 \\pi^2 \\times T} \\times f^{-\\gamma}\n",
    "     \\]\n",
    "   - A random realization of the signal is generated using these priors:\n",
    "     \\[\n",
    "     y = \\sqrt{P(f)} \\times \\text{np.random.randn(size)}\n",
    "     \\]\n",
    "6. **Add Signal to TOA**:\n",
    "   - Finally, the time-correlated signal is added to the TOA values:\n",
    "     \\[\n",
    "     \\text{psr.stoas} += \\frac{1}{\\text{DAY}} \\times \\text{np.dot}(F, y) \\times v \\times \\text{factor}\n",
    "     \\]\n",
    "\n",
    "### Summary of Equations\n",
    "\n",
    "1. **TOA Error Addition**:\n",
    "   \\[\n",
    "   \\text{psr.stoas} += \\text{efacvec} \\times \\text{psr.toaerrs} \\times \\left( \\frac{10^{-6}}{\\text{DAY}} \\right) \\times \\mathcal{N}(0, 1)\n",
    "   \\]\n",
    "   \n",
    "2. **Time-Correlated Signal**:\n",
    "   \\[\n",
    "   P(f) = \\frac{A^2 \\times \\text{YEAR}^2}{12 \\pi^2 \\times T} \\times f^{-\\gamma}\n",
    "   \\]\n",
    "   \\[\n",
    "   \\text{psr.stoas} += \\frac{1}{\\text{DAY}} \\times \\text{np.dot}(F, y) \\times v \\times \\text{factor}\n",
    "   \\]"
   ]
  },
  {
   "cell_type": "markdown",
   "id": "00d7f1f8",
   "metadata": {},
   "source": [
    "# Simulate single-psr data"
   ]
  },
  {
   "cell_type": "code",
   "execution_count": null,
   "id": "6eb994b0",
   "metadata": {},
   "outputs": [],
   "source": [
    "psrname = \"J0030+0451\"\n",
    "parfile = f\"{homedir}/data/EPTA_DR2/DR2new/{psrname}/{psrname}.par\"\n",
    "\n",
    "cadence = 5.0  # days\n",
    "# Calculate the number of observation points based on the total time range and cadence\n",
    "start_mjd, end_mjd = 52000, 59000\n",
    "num_toas = int((end_mjd - start_mjd) / cadence)\n",
    "\n",
    "# Generate TOAs with proper spacing\n",
    "toas = np.linspace(start_mjd, end_mjd, num_toas)  # MJD\n",
    "\n",
    "toaerrs = 1  # microseconds\n",
    "# Randomly assign frequencies from the available choices\n",
    "freqs = np.random.choice([500, 900, 1400], num_toas)  # MHz\n",
    "\n",
    "# Create the fake pulsar using libstempo\n",
    "ltpsr = LTsim.fakepulsar(parfile, obstimes=toas, toaerr=toaerrs, freq=freqs)"
   ]
  },
  {
   "cell_type": "markdown",
   "id": "47e9d973",
   "metadata": {},
   "source": [
    "## Ideal Timing model"
   ]
  },
  {
   "cell_type": "code",
   "execution_count": null,
   "id": "b2295e7f",
   "metadata": {},
   "outputs": [],
   "source": [
    "f, (a0, a1) = plt.subplots(1, 2, figsize=(22,7), \n",
    "                           gridspec_kw={'width_ratios': [3, 1], 'hspace': 0, 'wspace': 0}, \n",
    "                          )\n",
    "\n",
    "# Left plot\n",
    "a0.errorbar(ltpsr.toas(), ltpsr.residuals(), yerr=ltpsr.toaerrs*1e-6, fmt='.')\n",
    "\n",
    "a0.axhline(0., ls=':', c='k', lw=2, zorder=10)\n",
    "a0.grid(alpha=.4)\n",
    "\n",
    "# Right plot\n",
    "Gauss = np.random.randn(10000)\n",
    "a1.hist(Gauss, bins=30, color='r', histtype='step', orientation=\"horizontal\", density=True)\n",
    "a1.hist(ltpsr.residuals() / (ltpsr.toaerrs*1e-6), \n",
    "        bins=30, histtype='step', orientation=\"horizontal\", density=True)\n",
    "plt.setp(a1.get_xticklabels(), visible=False)\n",
    "plt.setp(a1.get_yticklabels(), visible=False)\n",
    "a1.grid(alpha=.4)\n",
    "\n",
    "plt.show()"
   ]
  },
  {
   "cell_type": "code",
   "execution_count": null,
   "id": "466a417e",
   "metadata": {},
   "outputs": [],
   "source": [
    "add_gwb(ltpsr, gwAmp = 2e-15, flow=1e-9, fhigh=1e-5)"
   ]
  },
  {
   "cell_type": "code",
   "execution_count": null,
   "id": "dad4d3f9",
   "metadata": {},
   "outputs": [],
   "source": [
    "def UnixTimeFromModifiedJulianDate(jd):\n",
    "    return (jd-40587)/365.25 + 1970;\n",
    "\n",
    "chain_plot = plt.figure(figsize=(15, 5))\n",
    "plt.axhline(0, color='k', linestyle='--')\n",
    "\n",
    "toas = UnixTimeFromModifiedJulianDate(ltpsr.toas())\n",
    "plt.plot(UnixTimeFromModifiedJulianDate(ltpsr.toas()[toas>2005]), ltpsr.residuals()[toas>2005]*1e6, label = '$R(t)_{Earth}$', color='k', linestyle='-')\n",
    "\n",
    "plt.ylabel('Timing residuals ($\\mu s$)', fontsize=14)\n",
    "plt.xlabel('Year', fontsize=14)"
   ]
  },
  {
   "cell_type": "code",
   "execution_count": null,
   "id": "73e9c1fe",
   "metadata": {},
   "outputs": [],
   "source": [
    "pickle.dump(ltpsr.residuals()*1e6, open('GWB_res.pkl', 'wb'))"
   ]
  },
  {
   "cell_type": "code",
   "execution_count": null,
   "id": "a652e25f",
   "metadata": {},
   "outputs": [],
   "source": [
    "from enterprise_extensions import models, model_utils\n",
    "from enterprise.pulsar import Pulsar\n",
    "\n",
    "Tspan = 25.4 * 365.25 * 24 * 3600\n",
    "\n",
    "# compute injected free spectrum\n",
    "G = 6.6743e-8\n",
    "M_solar = 1.98847e33\n",
    "c = 2.99792458e10\n",
    "\n",
    "df = 1/Tspan\n",
    "N = 30\n",
    "f_yr = 1 / (365.25 * 24 * 3600)\n",
    "\n",
    "def compute_PSD(f, gamma, log10_A):\n",
    "    return (10**(log10_A))**2/12/np.pi**2*(f/f_yr)**(-gamma)*(np.pi*10**7)**3\n",
    "\n",
    "def hc_to_logrho(f_bin, hc, Tspan):\n",
    "    return 0.5 * np.log10(hc**2 / 12 / np.pi**2 / f_bin**3 / Tspan)\n",
    "\n",
    "def PSD_to_logrho(f_bin, PSD, Tspan):\n",
    "    return  0.5*np.log10(PSD/Tspan)\n",
    "\n",
    "f = np.linspace(1e-9, 1e-7, 1000)\n",
    "PSD = compute_PSD(f, 13/3, np.log10(2e-15))\n",
    "log_rho = PSD_to_logrho(f, PSD, Tspan)"
   ]
  },
  {
   "cell_type": "code",
   "execution_count": null,
   "id": "47fb74cb",
   "metadata": {},
   "outputs": [],
   "source": [
    "fig, axs = plt.subplots(1,2,figsize=(15, 4), gridspec_kw={'width_ratios':[1, 2.5]})\n",
    "fig.subplots_adjust(wspace=0.14)\n",
    "\n",
    "axs[0].plot(np.log10(f), log_rho, color='tab:red')\n",
    "#axs[0].xaxis.set_tick_params(labelsize=11)\n",
    "#axs[0].yaxis.set_tick_params(labelsize=11)\n",
    "axs[0].set_xlabel(\"Frequency [Hz]\", fontsize=11)\n",
    "axs[0].set_ylabel(r\"$\\mathrm{log}_{10}\\left( \\rho_{\\mathrm{CRS}} \\ [\\mathrm{s}] \\right)$\", fontsize=11)\n",
    "\n",
    "gridxs = np.log10(np.hstack((np.arange(1,10)*1e-9, np.arange(1,5)*1e-8)))\n",
    "gridys = np.arange(-9.5,-5.5,.5)\n",
    "labelslist = ['1$\\cdot$10$^{-9}$', ' ',' ',' ',\n",
    "              ' ',' ',' ',' ',\n",
    "              ' ','1$\\cdot$10$^{-8}$', ' ',' ',' ']\n",
    "axs[0].set_xticks(gridxs, labels = labelslist)\n",
    "axs[0].set_yticks(gridys)\n",
    "axs[0].grid(ls='--')\n",
    "\n",
    "\n",
    "axs[1].axhline(0, color='k', linestyle='--')\n",
    "\n",
    "toas = UnixTimeFromModifiedJulianDate(ltpsr.toas())\n",
    "axs[1].plot(UnixTimeFromModifiedJulianDate(ltpsr.toas()[toas>2005]), ltpsr.residuals()[toas>2005]*1e6, label = '$R(t)_{Earth}$', color='k', linestyle='-')\n",
    "\n",
    "axs[1].set_ylabel('Timing residuals ($\\mu s$)', fontsize=11)\n",
    "axs[1].set_xlabel('Year', fontsize=11)\n",
    "\n",
    "plt.savefig('res_gwb_example.png', dpi=150, bbox_inches='tight')"
   ]
  },
  {
   "cell_type": "markdown",
   "id": "42cc728d",
   "metadata": {},
   "source": [
    "## Inject White noise"
   ]
  },
  {
   "cell_type": "code",
   "execution_count": null,
   "id": "95a72c7a",
   "metadata": {},
   "outputs": [],
   "source": [
    "res_i = np.copy(ltpsr.residuals())\n",
    "efac = 1.\n",
    "add_efac(ltpsr, efac=efac, seed=9827)\n",
    "res_wn = np.copy(ltpsr.residuals()) - res_i"
   ]
  },
  {
   "cell_type": "code",
   "execution_count": null,
   "id": "50e723cd",
   "metadata": {},
   "outputs": [],
   "source": [
    "f, (a0, a1) = plt.subplots(1, 2, figsize=(22,7), \n",
    "                           gridspec_kw={'width_ratios': [3, 1], 'hspace': 0, 'wspace': 0}, \n",
    "                          )\n",
    "# Left plot\n",
    "a0.errorbar(ltpsr.toas(), ltpsr.residuals(), yerr=ltpsr.toaerrs*1e-6, fmt='.')\n",
    "a0.axhline(0., ls=':', c='k', lw=2, zorder=10)\n",
    "a0.grid(alpha=.4)\n",
    "\n",
    "# Right plot\n",
    "Gauss = np.random.randn(10000)\n",
    "a1.hist(Gauss, bins=30, color='r', histtype='step', orientation=\"horizontal\", density=True)\n",
    "a1.hist(ltpsr.residuals() / (ltpsr.toaerrs*1e-6), \n",
    "        bins=30, histtype='step', orientation=\"horizontal\", density=True)\n",
    "plt.setp(a1.get_xticklabels(), visible=False)\n",
    "plt.setp(a1.get_yticklabels(), visible=False)\n",
    "a1.grid(alpha=.4)\n",
    "\n",
    "plt.show()"
   ]
  },
  {
   "cell_type": "markdown",
   "id": "1589e330",
   "metadata": {},
   "source": [
    "## Inject red noise"
   ]
  },
  {
   "cell_type": "code",
   "execution_count": null,
   "id": "f511675e",
   "metadata": {},
   "outputs": [],
   "source": [
    "# Set up random values for A_rn and gamma_rn\n",
    "A_rn = 7e-14 #np.random.uniform(1e-15, 1e-13)\n",
    "gamma_rn = 3 #np.random.uniform(1, 5)\n",
    "\n",
    "# Copy initial residuals\n",
    "toa_tmp = np.copy(ltpsr.residuals())\n",
    "\n",
    "# Add time-correlated signal with random A_rn and gamma_rn\n",
    "add_time_corr_signal(ltpsr, A=A_rn, gamma=gamma_rn, components=30, seed=4105)\n",
    "\n",
    "# Compute new residuals after adding red noise\n",
    "res_rn = np.copy(ltpsr.residuals()) - toa_tmp\n",
    "\n",
    "# Print the values in table format\n",
    "print(f\"{'Parameter':<10} | {'Value':<18}\")\n",
    "print(\"-\" * 30)\n",
    "print(f\"{'A_rn':<10} | {A_rn:<18.5e}\")\n",
    "print(f\"{'gamma_rn':<10} | {gamma_rn:<18.5f}\")"
   ]
  },
  {
   "cell_type": "code",
   "execution_count": null,
   "id": "ebc5b468",
   "metadata": {},
   "outputs": [],
   "source": [
    "f, (a0, a1) = plt.subplots(1, 2, figsize=(22,7), \n",
    "                           gridspec_kw={'width_ratios': [3, 1], 'hspace': 0, 'wspace': 0}, \n",
    "                          )\n",
    "\n",
    "# Left plot\n",
    "a0.errorbar(ltpsr.toas(), ltpsr.residuals(), yerr=ltpsr.toaerrs*1e-6, fmt='.', label=\"data\")\n",
    "a0.plot(ltpsr.toas(), res_rn, 'r', lw=3, zorder=10, label=\"Red noise\")\n",
    "a0.axhline(0., ls=':', c='k', lw=2, zorder=10)\n",
    "a0.grid(alpha=.4)\n",
    "a0.legend(fontsize=14)\n",
    "\n",
    "\n",
    "# Right plot\n",
    "Gauss = np.random.randn(10000)\n",
    "# Calculate the normalized residuals\n",
    "normalized_residuals = ltpsr.residuals() / (ltpsr.toaerrs*1e-6)\n",
    "# Remove NaNs from the data\n",
    "normalized_residuals = normalized_residuals[~np.isnan(normalized_residuals)]\n",
    "a1.hist(Gauss, bins=30, color='r', histtype='step', orientation=\"horizontal\", density=True)\n",
    "a1.hist(normalized_residuals, \n",
    "        bins=30, histtype='step', orientation=\"horizontal\", density=True)\n",
    "plt.setp(a1.get_xticklabels(), visible=False)\n",
    "plt.setp(a1.get_yticklabels(), visible=False)\n",
    "a1.grid(alpha=.4)\n",
    "\n",
    "plt.show()"
   ]
  },
  {
   "cell_type": "markdown",
   "id": "90346b43",
   "metadata": {},
   "source": [
    "## Inject DM variations"
   ]
  },
  {
   "cell_type": "code",
   "execution_count": null,
   "id": "67276ff0",
   "metadata": {},
   "outputs": [],
   "source": [
    "A_dm = 5e-14\n",
    "gamma_dm = 2.3\n",
    "toa_tmp = np.copy(ltpsr.residuals())\n",
    "add_time_corr_signal(ltpsr, A=A_dm, gamma=gamma_dm, components=30, idx=2, seed=413405)\n",
    "res_dm = np.copy(ltpsr.residuals()) - toa_tmp"
   ]
  },
  {
   "cell_type": "code",
   "execution_count": null,
   "id": "11d7abd7",
   "metadata": {},
   "outputs": [],
   "source": [
    "f, (a0, a1) = plt.subplots(1, 2, figsize=(22,7), \n",
    "                           gridspec_kw={'width_ratios': [3, 1], 'hspace': 0, 'wspace': 0}, \n",
    "                          )\n",
    "\n",
    "# Left plot\n",
    "a0.errorbar(ltpsr.toas(), ltpsr.residuals(), yerr=ltpsr.toaerrs*1e-6, fmt='.', label='Data')\n",
    "a0.plot(ltpsr.toas(), res_rn, 'r', lw=3, zorder=10, label=\"Red noise\")\n",
    "a0.plot(ltpsr.toas(), res_dm, '.', color='g', lw=3, zorder=10, label=\"DM var.\")\n",
    "a0.axhline(0., ls=':', c='k', lw=2, zorder=10)\n",
    "a0.grid(alpha=.4)\n",
    "a0.legend(fontsize=14)\n",
    "\n",
    "# Right plot\n",
    "Gauss = np.random.randn(10000)\n",
    "a1.hist(Gauss, bins=30, color='r', histtype='step', orientation=\"horizontal\", density=True)\n",
    "a1.hist(ltpsr.residuals() / (ltpsr.toaerrs*1e-6), \n",
    "        bins=30, histtype='step', orientation=\"horizontal\", density=True)\n",
    "plt.setp(a1.get_xticklabels(), visible=False)\n",
    "plt.setp(a1.get_yticklabels(), visible=False)\n",
    "a1.grid(alpha=.4)\n",
    "\n",
    "plt.show()"
   ]
  },
  {
   "cell_type": "markdown",
   "id": "874392a3",
   "metadata": {},
   "source": [
    "# Create model with enterprise"
   ]
  },
  {
   "cell_type": "code",
   "execution_count": null,
   "id": "05af0b56",
   "metadata": {},
   "outputs": [],
   "source": [
    "# Create Enteprise pulsar object\n",
    "psr = Pulsar(ltpsr)"
   ]
  },
  {
   "cell_type": "markdown",
   "id": "cb3f5a97",
   "metadata": {},
   "source": [
    "## Include TM param errors (marginalized)"
   ]
  },
  {
   "cell_type": "code",
   "execution_count": null,
   "id": "d0031ecf",
   "metadata": {},
   "outputs": [],
   "source": [
    "s = gp_signals.TimingModel()"
   ]
  },
  {
   "cell_type": "markdown",
   "id": "c270df44",
   "metadata": {},
   "source": [
    "## Include WN EFAC"
   ]
  },
  {
   "cell_type": "code",
   "execution_count": null,
   "id": "14cbeff7",
   "metadata": {},
   "outputs": [],
   "source": [
    "efac_prior = parameter.Uniform(0.1, 5)\n",
    "s += white_signals.MeasurementNoise(efac=efac_prior)"
   ]
  },
  {
   "cell_type": "markdown",
   "id": "c2325116",
   "metadata": {},
   "source": [
    "## Include Red noise"
   ]
  },
  {
   "cell_type": "code",
   "execution_count": null,
   "id": "3c0c6dc6",
   "metadata": {},
   "outputs": [],
   "source": [
    "log10_A_rn_prior = parameter.Uniform(-18, -10)\n",
    "gamma_rn_prior = parameter.Uniform(0, 7)\n",
    "pl = powerlaw(log10_A=log10_A_rn_prior, gamma=gamma_rn_prior)\n",
    "s += gp_signals.FourierBasisGP(pl, components=30)"
   ]
  },
  {
   "cell_type": "markdown",
   "id": "864a24f8",
   "metadata": {},
   "source": [
    "## Include DM variations"
   ]
  },
  {
   "cell_type": "code",
   "execution_count": null,
   "id": "cb5a1b38",
   "metadata": {},
   "outputs": [],
   "source": [
    "log10_A_dm_prior = parameter.Uniform(-18, -10)\n",
    "gamma_dm_prior = parameter.Uniform(0, 7)\n",
    "pl = powerlaw(log10_A=log10_A_rn_prior, gamma=gamma_rn_prior)\n",
    "dm_basis = createfourierdesignmatrix_dm(nmodes=30)\n",
    "s += gp_signals.BasisGP(pl, dm_basis, name=\"dm_gp\")"
   ]
  },
  {
   "cell_type": "code",
   "execution_count": null,
   "id": "6e6926d2",
   "metadata": {},
   "outputs": [],
   "source": [
    "# Create PTA object, from which one can compute LH and prior\n",
    "pta = PTA([s(psr)])"
   ]
  },
  {
   "cell_type": "code",
   "execution_count": null,
   "id": "78398a8f",
   "metadata": {},
   "outputs": [],
   "source": [
    "for p in pta.param_names:\n",
    "    print(p)"
   ]
  },
  {
   "cell_type": "code",
   "execution_count": null,
   "id": "50b3d9ef",
   "metadata": {},
   "outputs": [],
   "source": [
    "x = {\n",
    "    f\"{psrname}_dm_gp_gamma\" : 3,\n",
    "    f\"{psrname}_dm_gp_log10_A\" : -14,\n",
    "    f\"{psrname}_efac\" : 1,\n",
    "    f\"{psrname}_red_noise_gamma\" : 3,\n",
    "    f\"{psrname}_red_noise_log10_A\" : -15\n",
    "}\n",
    "print(pta.get_lnlikelihood(x))\n",
    "print(pta.get_lnprior(x))"
   ]
  },
  {
   "cell_type": "markdown",
   "id": "9ea8f9b4",
   "metadata": {},
   "source": [
    "# Set sampler"
   ]
  },
  {
   "cell_type": "code",
   "execution_count": null,
   "id": "73f6dd4f",
   "metadata": {},
   "outputs": [],
   "source": [
    "# Sample parameters\n",
    "outdir = \"./../chains/sglpsr\"\n",
    "nsamples = 1e4\n",
    "\n",
    "with open(os.path.join(outdir, \"pars.txt\"), \"w\") as fout:\n",
    "    for pname in pta.param_names:\n",
    "        fout.write(pname + \"\\n\")\n",
    "\n",
    "x0 = np.hstack([p.sample() for p in pta.params])\n",
    "ndim = len(x0)\n",
    "cov = np.diag(np.ones(ndim) * 0.01**2)\n",
    "sampler = ptmcmc(ndim, pta.get_lnlikelihood, pta.get_lnprior, cov, outDir=outdir)\n",
    "## to resume black txt"
   ]
  },
  {
   "cell_type": "code",
   "execution_count": null,
   "id": "b60b4f10",
   "metadata": {},
   "outputs": [],
   "source": [
    "# Set Jump Proposals\n",
    "jp = JumpProposal(pta, None, empirical_distr=None)\n",
    "\n",
    "# always add draw from prior\n",
    "sampler.addProposalToCycle(jp.draw_from_prior, 5)\n",
    "\n",
    "sel_sig = {\"red_noise\":10, \"dm\":10}\n",
    "\n",
    "# Jump proposals from priors of selected params\n",
    "for s in sel_sig:\n",
    "    if any([s in p for p in pta.param_names]):\n",
    "        sampler.addProposalToCycle(jp.draw_from_par_prior(s), 10)"
   ]
  },
  {
   "cell_type": "markdown",
   "id": "a42456cf",
   "metadata": {},
   "source": [
    " # Sample parameters"
   ]
  },
  {
   "cell_type": "code",
   "execution_count": null,
   "id": "a44a2157",
   "metadata": {
    "scrolled": true
   },
   "outputs": [],
   "source": [
    "sampler.sample(x0, int(nsamples), SCAMweight=40, DEweight=60, AMweight=20)"
   ]
  },
  {
   "cell_type": "markdown",
   "id": "f0f03cf0",
   "metadata": {},
   "source": [
    "# Analyse chain"
   ]
  },
  {
   "cell_type": "code",
   "execution_count": null,
   "id": "f8e455fe",
   "metadata": {},
   "outputs": [],
   "source": [
    "ch = np.loadtxt(\"%s/chain_1.txt\"%outdir)\n",
    "ch = ch[int(len(ch)*.5):]\n",
    "pars = np.loadtxt(\"%s/pars.txt\"%outdir, dtype=str)\n",
    "p_inj = [gamma_dm, np.log10(A_dm), efac, gamma_rn, np.log10(A_rn)]"
   ]
  },
  {
   "cell_type": "code",
   "execution_count": null,
   "id": "d17411f7",
   "metadata": {},
   "outputs": [],
   "source": [
    "for p in pars:\n",
    "    print(p)"
   ]
  },
  {
   "cell_type": "code",
   "execution_count": null,
   "id": "ef4bfcfd",
   "metadata": {},
   "outputs": [],
   "source": [
    "for i in range(len(pars)):\n",
    "    plt.title(pars[i])\n",
    "    plt.plot(ch[:,i])\n",
    "    plt.axhline(p_inj[i], c='k', lw=3)\n",
    "    plt.show()"
   ]
  },
  {
   "cell_type": "code",
   "execution_count": null,
   "id": "cb952e2c",
   "metadata": {},
   "outputs": [],
   "source": [
    "corner.corner(ch[::2,:-4], labels=pars, truths=p_inj, truth_color='k', hist_kwargs={\"density\":True})\n",
    "plt.show()"
   ]
  },
  {
   "cell_type": "code",
   "execution_count": null,
   "id": "e5b82b33-e35b-48fb-a61d-028525caed31",
   "metadata": {},
   "outputs": [],
   "source": []
  }
 ],
 "metadata": {
  "kernelspec": {
   "display_name": "Python 3 (ipykernel)",
   "language": "python",
   "name": "python3"
  },
  "language_info": {
   "codemirror_mode": {
    "name": "ipython",
    "version": 3
   },
   "file_extension": ".py",
   "mimetype": "text/x-python",
   "name": "python",
   "nbconvert_exporter": "python",
   "pygments_lexer": "ipython3",
   "version": "3.9.16"
  }
 },
 "nbformat": 4,
 "nbformat_minor": 5
}
